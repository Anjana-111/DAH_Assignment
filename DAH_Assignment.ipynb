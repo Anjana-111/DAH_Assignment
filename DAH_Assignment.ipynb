{
  "nbformat": 4,
  "nbformat_minor": 0,
  "metadata": {
    "colab": {
      "provenance": []
    },
    "kernelspec": {
      "name": "python3",
      "display_name": "Python 3"
    },
    "language_info": {
      "name": "python"
    }
  },
  "cells": [
    {
      "cell_type": "code",
      "execution_count": 1,
      "metadata": {
        "id": "MujnWz3QuYzh"
      },
      "outputs": [],
      "source": [
        "import threading   \n",
        "# Define the mapper function\n",
        "def mapper(words):\n",
        "    word_count = {}\n",
        "    for word in words:\n",
        "        if word in word_count:\n",
        "            word_count[word] += 1\n",
        "        else:\n",
        "            word_count[word] = 1\n",
        "    return word_count.items()"
      ]
    },
    {
      "cell_type": "code",
      "source": [
        "# Define the reducer function\n",
        "def reducer(word, counts):\n",
        "    return (word, sum(counts))"
      ],
      "metadata": {
        "id": "oDVzSIrWu2om"
      },
      "execution_count": 2,
      "outputs": []
    },
    {
      "cell_type": "code",
      "source": [
        "# Define the MapReduce function\n",
        "def map_reduce(words):\n",
        "    # Split the input text into individual words\n",
        "    words = words.split()\n",
        "    # Map the words to key-value pairs\n",
        "    mapped_pairs = []\n",
        "    for pair in mapper(words):\n",
        "        mapped_pairs.append(pair)\n",
        "    # Shuffle the intermediate key-value pairs\n",
        "    shuffled_pairs = {}\n",
        "    for pair in mapped_pairs:\n",
        "        if pair[0] in shuffled_pairs:\n",
        "            shuffled_pairs[pair[0]].append(pair[1])\n",
        "        else:\n",
        "            shuffled_pairs[pair[0]] = [pair[1]]\n",
        "    # Reduce the shuffled key-value pairs\n",
        "    reduced_pairs = []\n",
        "    for key, value in shuffled_pairs.items():\n",
        "        reduced_pairs.append(reducer(key, value))\n",
        "    return reduced_pairs"
      ],
      "metadata": {
        "id": "i70RaqV-u6se"
      },
      "execution_count": 4,
      "outputs": []
    },
    {
      "cell_type": "code",
      "source": [
        "# Define the main function to test the MapReduce function\n",
        "def main():\n",
        "    # Read the input text from file\n",
        "    with open('input.txt', 'r') as f:\n",
        "        words = f.read()\n",
        "    # Call the MapReduce function\n",
        "    result = map_reduce(words)\n",
        "    # Print the output\n",
        "    for pair in result:\n",
        "        print(pair)\n",
        "if __name__ == '__main__':\n",
        "    main()"
      ],
      "metadata": {
        "colab": {
          "base_uri": "https://localhost:8080/"
        },
        "id": "vfr2kkWEu-fG",
        "outputId": "d6f2b7c0-cc3b-4249-8f14-2aa35591a075"
      },
      "execution_count": 5,
      "outputs": [
        {
          "output_type": "stream",
          "name": "stdout",
          "text": [
            "('This', 1)\n",
            "('is', 1)\n",
            "('watermelon.', 1)\n",
            "('Its', 1)\n",
            "('green', 1)\n",
            "('in', 1)\n",
            "('colour', 1)\n"
          ]
        }
      ]
    },
    {
      "cell_type": "code",
      "source": [
        "import threading   \n",
        "# Define the mapper function\n",
        "def mapper(words):\n",
        "    word_count = {}\n",
        "    for word in words:\n",
        "        if word in word_count:\n",
        "            word_count[word] += 1\n",
        "        else:\n",
        "            word_count[word] = 1\n",
        "    return word_count.items()\n",
        "\n",
        "# Define the main function to test the MapReduce function\n",
        "def main():\n",
        "    # Read the input text from file\n",
        "    with open('input.txt', 'r') as f:\n",
        "        words = f.read()\n",
        "    # Call the Mapper function\n",
        "    result = mapper(words)\n",
        "    # Print the output\n",
        "    for pair in result:\n",
        "        print(pair)\n",
        "if __name__ == '__main__':\n",
        "    main()"
      ],
      "metadata": {
        "colab": {
          "base_uri": "https://localhost:8080/"
        },
        "id": "yjSNqTGnvOGI",
        "outputId": "5183d023-65b3-4e9a-f460-9c098d834ca3"
      },
      "execution_count": 6,
      "outputs": [
        {
          "output_type": "stream",
          "name": "stdout",
          "text": [
            "('T', 1)\n",
            "('h', 1)\n",
            "('i', 3)\n",
            "('s', 3)\n",
            "(' ', 6)\n",
            "('w', 1)\n",
            "('a', 1)\n",
            "('t', 2)\n",
            "('e', 4)\n",
            "('r', 3)\n",
            "('m', 1)\n",
            "('l', 2)\n",
            "('o', 3)\n",
            "('n', 3)\n",
            "('.', 1)\n",
            "('I', 1)\n",
            "('g', 1)\n",
            "('c', 1)\n",
            "('u', 1)\n"
          ]
        }
      ]
    },
    {
      "cell_type": "code",
      "source": [
        "#Splitting words\n",
        "# Define the MapReduce function\n",
        "def map_reduce(words):\n",
        "    # Split the input text into individual words\n",
        "    words = words.split()\n",
        "    print(words)\n",
        "# Define the main function to test the MapReduce function\n",
        "def main():\n",
        "    # Read the input text from file\n",
        "    with open('input.txt', 'r') as f:\n",
        "        words = f.read()\n",
        "    # Call the MapReduce function\n",
        "    result = map_reduce(words)\n",
        "    \n",
        "if __name__ == '__main__':\n",
        "    main()"
      ],
      "metadata": {
        "colab": {
          "base_uri": "https://localhost:8080/"
        },
        "id": "fr_xjqIKvU8J",
        "outputId": "0ee738bb-6853-495b-fc82-41e8c95b796a"
      },
      "execution_count": 7,
      "outputs": [
        {
          "output_type": "stream",
          "name": "stdout",
          "text": [
            "['This', 'is', 'watermelon.', 'Its', 'green', 'in', 'colour']\n"
          ]
        }
      ]
    },
    {
      "cell_type": "code",
      "source": [
        "#mapping words to key-value pairs\n",
        "# Define the MapReduce function\n",
        "def map_reduce(words):\n",
        "    # Split the input text into individual words\n",
        "    words = words.split()\n",
        "    # Map the words to key-value pairs\n",
        "    mapped_pairs = []\n",
        "    for pair in mapper(words):\n",
        "        mapped_pairs.append(pair)\n",
        "    print(mapped_pairs)\n",
        "# Define the main function to test the MapReduce function\n",
        "def main():\n",
        "    # Read the input text from file\n",
        "    with open('input.txt', 'r') as f:\n",
        "        words = f.read()\n",
        "    # Call the MapReduce function\n",
        "    result = map_reduce(words)\n",
        "    \n",
        "if __name__ == '__main__':\n",
        "    main()"
      ],
      "metadata": {
        "colab": {
          "base_uri": "https://localhost:8080/"
        },
        "id": "9ZxObn5tvam1",
        "outputId": "708821f0-8e81-489a-baf4-d5954636896e"
      },
      "execution_count": 8,
      "outputs": [
        {
          "output_type": "stream",
          "name": "stdout",
          "text": [
            "[('This', 1), ('is', 1), ('watermelon.', 1), ('Its', 1), ('green', 1), ('in', 1), ('colour', 1)]\n"
          ]
        }
      ]
    },
    {
      "cell_type": "code",
      "source": [
        "#shuffling key value pairs\n",
        "# Define the MapReduce function\n",
        "def map_reduce(words):\n",
        "    # Split the input text into individual words\n",
        "    words = words.split()\n",
        "    # Map the words to key-value pairs\n",
        "    mapped_pairs = []\n",
        "    for pair in mapper(words):\n",
        "        mapped_pairs.append(pair)\n",
        "    # Shuffle the intermediate key-value pairs\n",
        "    shuffled_pairs = {}\n",
        "    for pair in mapped_pairs:\n",
        "        if pair[0] in shuffled_pairs:\n",
        "            shuffled_pairs[pair[0]].append(pair[1])\n",
        "        else:\n",
        "            shuffled_pairs[pair[0]] = [pair[1]]\n",
        "    print(shuffled_pairs)\n",
        "# Define the main function to test the MapReduce function\n",
        "def main():\n",
        "    # Read the input text from file\n",
        "    with open('input.txt', 'r') as f:\n",
        "        words = f.read()\n",
        "    # Call the MapReduce function\n",
        "    result = map_reduce(words)\n",
        "    \n",
        "if __name__ == '__main__':\n",
        "    main()"
      ],
      "metadata": {
        "colab": {
          "base_uri": "https://localhost:8080/"
        },
        "id": "MR9PL5KSvgBY",
        "outputId": "3ffa7d5b-51bb-45ce-ecba-067bfeba8451"
      },
      "execution_count": 9,
      "outputs": [
        {
          "output_type": "stream",
          "name": "stdout",
          "text": [
            "{'This': [1], 'is': [1], 'watermelon.': [1], 'Its': [1], 'green': [1], 'in': [1], 'colour': [1]}\n"
          ]
        }
      ]
    },
    {
      "cell_type": "code",
      "source": [
        "#reduce shuffle key value pairs\n",
        "# Define the reducer function\n",
        "def reducer(word, counts):\n",
        "    return (word, sum(counts))\n",
        "# Define the MapReduce function\n",
        "def map_reduce(words):\n",
        "    # Split the input text into individual words\n",
        "    words = words.split()\n",
        "    # Map the words to key-value pairs\n",
        "    mapped_pairs = []\n",
        "    for pair in mapper(words):\n",
        "        mapped_pairs.append(pair)\n",
        "    # Shuffle the intermediate key-value pairs\n",
        "    shuffled_pairs = {}\n",
        "    for pair in mapped_pairs:\n",
        "        if pair[0] in shuffled_pairs:\n",
        "            shuffled_pairs[pair[0]].append(pair[1])\n",
        "        else:\n",
        "            shuffled_pairs[pair[0]] = [pair[1]]\n",
        "    # Reduce the shuffled key-value pairs\n",
        "    reduced_pairs = []\n",
        "    for key, value in shuffled_pairs.items():\n",
        "        reduced_pairs.append(reducer(key, value))\n",
        "    print(reduced_pairs)\n",
        "\n",
        "    # Define the main function to test the MapReduce function\n",
        "def main():\n",
        "    # Read the input text from file\n",
        "    with open('input.txt', 'r') as f:\n",
        "        words = f.read()\n",
        "    # Call the MapReduce function\n",
        "    result = map_reduce(words)\n",
        "\n",
        "    \n",
        "if __name__ == '__main__':\n",
        "    main()"
      ],
      "metadata": {
        "colab": {
          "base_uri": "https://localhost:8080/"
        },
        "id": "9XUEyKRAvmyh",
        "outputId": "62361848-c788-4d96-ba4d-7965678ca0bd"
      },
      "execution_count": 10,
      "outputs": [
        {
          "output_type": "stream",
          "name": "stdout",
          "text": [
            "[('This', 1), ('is', 1), ('watermelon.', 1), ('Its', 1), ('green', 1), ('in', 1), ('colour', 1)]\n"
          ]
        }
      ]
    },
    {
      "cell_type": "code",
      "source": [
        "!pip3 freeze > requirements.txt "
      ],
      "metadata": {
        "id": "3LsqN5Pmv1US"
      },
      "execution_count": 11,
      "outputs": []
    },
    {
      "cell_type": "code",
      "source": [],
      "metadata": {
        "id": "jK5PuEs2v7AU"
      },
      "execution_count": null,
      "outputs": []
    }
  ]
}